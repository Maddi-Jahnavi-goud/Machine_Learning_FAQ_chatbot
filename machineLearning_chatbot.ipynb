{
  "nbformat": 4,
  "nbformat_minor": 0,
  "metadata": {
    "colab": {
      "provenance": [],
      "mount_file_id": "1qcMoCz4hWNCUtp8cBDxYocqhQVeooB8e",
      "authorship_tag": "ABX9TyNDEopo0OW7JGPkwiD6pga0",
      "include_colab_link": true
    },
    "kernelspec": {
      "name": "python3",
      "display_name": "Python 3"
    },
    "language_info": {
      "name": "python"
    }
  },
  "cells": [
    {
      "cell_type": "markdown",
      "metadata": {
        "id": "view-in-github",
        "colab_type": "text"
      },
      "source": [
        "<a href=\"https://colab.research.google.com/github/Maddi-Jahnavi-goud/Machine_Learning_FAQ_chatbot/blob/main/machineLearning_chatbot.ipynb\" target=\"_parent\"><img src=\"https://colab.research.google.com/assets/colab-badge.svg\" alt=\"Open In Colab\"/></a>"
      ]
    },
    {
      "cell_type": "code",
      "execution_count": 5,
      "metadata": {
        "id": "UlkA6bgtNEjB"
      },
      "outputs": [],
      "source": [
        "!pip install langchain langchain-community chromadb pypdf sentence-transformers openai -q"
      ]
    },
    {
      "cell_type": "code",
      "source": [
        "import os\n",
        "from google.colab import userdata\n",
        "from langchain_community.document_loaders import PyPDFLoader\n",
        "from langchain.text_splitter import RecursiveCharacterTextSplitter\n",
        "from langchain_community.embeddings import HuggingFaceEmbeddings\n",
        "from langchain_community.vectorstores import Chroma\n",
        "from langchain.memory import ConversationBufferMemory\n",
        "from langchain_community.chat_models import ChatOpenAI\n",
        "from langchain.chains import ConversationalRetrievalChain\n",
        "from langchain.schema import Document\n",
        "\n",
        "# --- Step 3: Set up the API Key and Environment ---\n",
        "# IMPORTANT: Before running, you must add your OpenRouter API key to Colab's secrets.\n",
        "# 1. Click the 'Key' icon on the left sidebar.\n",
        "# 2. Add a new secret named \"OPENROUTER_API_KEY\" and paste your key as the value.\n",
        "try:\n",
        "    os.environ[\"OPENROUTER_API_KEY\"] = userdata.get(\"OPENROUTER_API_KEY\")\n",
        "    api_key_found = True\n",
        "except Exception as e:\n",
        "    print(\"ERROR: Could not find the OPENROUTER_API_KEY secret.\")\n",
        "    print(\"Please add your OpenRouter API key to Colab's secrets (on the left sidebar) and try again.\")\n",
        "    api_key_found = False\n",
        "\n",
        "\n",
        "if api_key_found:\n",
        "    # --- Step 4: Load and Process the PDF Document ---\n",
        "    # Updated the pdf_path to the new file you provided.\n",
        "    pdf_path = \"/content/drive/MyDrive/MACHINE LEARNING(R17A0534).pdf\"\n",
        "    if not os.path.exists(pdf_path):\n",
        "        print(f\"ERROR: The file '{pdf_path}' was not found.\")\n",
        "        print(\"Please upload the 'RIL-IAR-2025.pdf' file to your Colab session.\")\n",
        "    else:\n",
        "        print(\"Loading and processing the PDF... this may take a moment.\")\n",
        "        # Load the PDF\n",
        "        loader = PyPDFLoader(pdf_path)\n",
        "        pages = loader.load_and_split()\n",
        "\n",
        "        # Split the document into smaller chunks for processing\n",
        "        pdf_splitter = RecursiveCharacterTextSplitter(\n",
        "            chunk_size=1000,\n",
        "            chunk_overlap=200,\n",
        "            length_function=len\n",
        "        )\n",
        "        docs = pdf_splitter.split_documents(pages)\n",
        "        documents = [Document(page_content=doc.page_content) for doc in docs]\n",
        "\n",
        "        # --- Step 5: Create Text Embeddings and Vector Store ---\n",
        "        # This converts the text chunks into numerical vectors for similarity searching.\n",
        "        print(\"Creating text embeddings and vector store...\")\n",
        "        embeddings = HuggingFaceEmbeddings(\n",
        "            model_name=\"sentence-transformers/all-MiniLM-L6-v2\",\n",
        "            model_kwargs={'device': 'cpu'}\n",
        "        )\n",
        "        vector_db = Chroma.from_documents(\n",
        "            documents,\n",
        "            embedding=embeddings\n",
        "        )\n",
        "\n",
        "        # --- Step 6: Set Up the Conversational AI Model ---\n",
        "        # This configures the chatbot's \"brain\" and memory.\n",
        "        print(\"Setting up the conversational AI...\")\n",
        "        # Set up conversational memory to remember the chat history\n",
        "        memory = ConversationBufferMemory(\n",
        "            memory_key=\"chat_history\",\n",
        "            return_messages=True\n",
        "        )\n",
        "\n",
        "        # Initialize the Language Model (LLM) through OpenRouter\n",
        "        llm = ChatOpenAI(\n",
        "            model=\"openai/gpt-3.5-turbo\",\n",
        "            temperature=0.2,\n",
        "            openai_api_base=\"https://openrouter.ai/api/v1\",\n",
        "            max_tokens=500,\n",
        "            openai_api_key=os.environ[\"OPENROUTER_API_KEY\"]\n",
        "        )\n",
        "\n",
        "        # Combine the retriever (from the vector store) and the LLM into a conversational chain\n",
        "        qa_chain = ConversationalRetrievalChain.from_llm(\n",
        "            llm=llm,\n",
        "            retriever=vector_db.as_retriever(),\n",
        "            memory=memory\n",
        "        )\n",
        "\n",
        "        print(\"\\n✅ Setup complete! The chatbot is ready.\")\n",
        "        print(\"You can now ask questions about the Reliance Industries 2024-25 Annual Report.\")\n",
        "        print(\"Type 'Exit' to end the chat.\")\n",
        "        print(\"-\" * 50)\n",
        "\n",
        "        # --- Step 7: Start the Real-time Interaction Loop ---\n",
        "        while True:\n",
        "            try:\n",
        "                question = input(\"User: \")\n",
        "                if question.lower().strip() == \"exit\":\n",
        "                    print(\"Bot: Thank you for chatting.If you have any queries, you can ask\")\n",
        "                    break\n",
        "                if not question.strip():\n",
        "                    continue\n",
        "\n",
        "                # Get the answer from the QA chain\n",
        "                answer = qa_chain({\"question\": question})\n",
        "                print(\"Bot:\", answer[\"answer\"])\n",
        "\n",
        "            except Exception as e:\n",
        "                print(f\"An error occurred: {e}\")\n",
        "                break"
      ],
      "metadata": {
        "colab": {
          "base_uri": "https://localhost:8080/"
        },
        "id": "lvu8rR2UNG0W",
        "outputId": "2f0cdceb-3ddb-46be-e934-94620c6d0b86"
      },
      "execution_count": 6,
      "outputs": [
        {
          "output_type": "stream",
          "name": "stdout",
          "text": [
            "Loading and processing the PDF... this may take a moment.\n",
            "Creating text embeddings and vector store...\n"
          ]
        },
        {
          "output_type": "stream",
          "name": "stderr",
          "text": [
            "'(ReadTimeoutError(\"HTTPSConnectionPool(host='huggingface.co', port=443): Read timed out. (read timeout=10)\"), '(Request ID: bea44ccb-6b6b-4097-8158-ac39a25d8972)')' thrown while requesting HEAD https://huggingface.co/sentence-transformers/all-MiniLM-L6-v2/resolve/main/config.json\n",
            "WARNING:huggingface_hub.utils._http:'(ReadTimeoutError(\"HTTPSConnectionPool(host='huggingface.co', port=443): Read timed out. (read timeout=10)\"), '(Request ID: bea44ccb-6b6b-4097-8158-ac39a25d8972)')' thrown while requesting HEAD https://huggingface.co/sentence-transformers/all-MiniLM-L6-v2/resolve/main/config.json\n",
            "Retrying in 1s [Retry 1/5].\n",
            "WARNING:huggingface_hub.utils._http:Retrying in 1s [Retry 1/5].\n"
          ]
        },
        {
          "output_type": "stream",
          "name": "stdout",
          "text": [
            "Setting up the conversational AI...\n",
            "\n",
            "✅ Setup complete! The chatbot is ready.\n",
            "You can now ask questions about the Reliance Industries 2024-25 Annual Report.\n",
            "Type 'Exit' to end the chat.\n",
            "--------------------------------------------------\n",
            "User: what is machine learning?\n",
            "Bot: Machine learning is the process of programming computers to optimize a performance criterion using example data or past experience. It involves creating a model with parameters that can be optimized through training data or past experiences. The model can be predictive for making future predictions, descriptive for gaining knowledge from data, or both. Arthur Samuel, a pioneer in computer gaming and artificial intelligence, defined machine learning as giving computers the ability to learn without being explicitly programmed. However, there is no universally accepted definition for machine learning, and different authors may define it differently.\n",
            "User:  What are the components of a learning process? Explain each component in detail.\n",
            "Bot: The components of a learning process are data storage, abstraction, generalization, and evaluation.\n",
            "User: Explain supervised, unsupervised, and reinforcement learning with examples.\n",
            "Bot: Supervised learning involves learning from examples provided by a knowledgeable expert. For example, in a supervised learning scenario, a model is trained on a dataset where each data point is labeled with the correct answer. An example could be training a model to classify images of animals where each image is labeled with the correct animal type.\n",
            "\n",
            "Unsupervised learning involves finding patterns or relationships in data without explicit guidance on what the correct output should be. An example of unsupervised learning is clustering, where the algorithm groups similar data points together based on their features. For instance, clustering patients based on their medical history to identify different patient groups.\n",
            "\n",
            "Reinforcement learning is a type of learning where an agent learns to make decisions by receiving feedback in the form of rewards or punishments. An example could be training a computer program to play a game like chess, where the program receives a reward for winning a game and a punishment for losing. The program learns to make better moves over time to maximize its rewards.\n",
            "User: What is VC Dimension? Explain the concept of shattering with an example\n",
            "Bot: The Vapnik-Chervonenkis (VC) dimension is a measure of the complexity or expressive power of a hypothesis space in machine learning. It is denoted by VC(H) and is defined based on the concept of shattering a set of instances. \n",
            "\n",
            "Shattering refers to the ability of a hypothesis space to correctly classify all possible dichotomies of a given set of instances. A set of examples D is said to be shattered by a hypothesis space H if for every possible way to divide the examples into two classes, there exists at least one hypothesis in H that can correctly classify each division.\n",
            "\n",
            "For example, in a two-dimensional space, if a hypothesis class of axis-aligned rectangles can correctly classify all possible ways to divide four points into two classes, then the VC dimension of that hypothesis class is four. This means that the hypothesis class has the capacity to shatter any set of four points in two dimensions.\n",
            "\n",
            "In summary, the VC dimension quantifies the complexity of a hypothesis space by measuring its ability to shatter sets of instances, which reflects its capacity to learn from data.\n",
            "User: What is PAC Learning? Explain with an example.\n",
            "Bot: PAC learning stands for Probably Approximately Correct learning. It refers to the concept class being learnable if an algorithm can produce a hypothesis with low error based on samples drawn from a probability distribution. An example to illustrate PAC learning could be the task of learning to classify shapes in a plane. If we have a concept class of shapes (circles, squares, triangles) and an algorithm that can learn to classify these shapes accurately based on training samples drawn from a probability distribution over the plane, then this concept class would be considered PAC-learnable.\n",
            "User: Differentiate between logical, geometric, and probabilistic models.\n",
            "Bot: Logical models use logical expressions to divide the instance space into segments, creating grouping models based on Boolean values. Geometric models use the geometry of the instance space to classify data points based on their spatial relationships. Probabilistic models, on the other hand, use the idea of probability to classify new entities by treating features and target variables as random variables and manipulating uncertainty levels. Additionally, probabilistic models can be predictive (based on conditional probability distributions) or generative (estimating joint distributions).\n",
            "User: exit.\n",
            "Bot: Logical models in machine learning use logical expressions to divide the instance space into segments and construct grouping models. Geometric models use the geometry of the instance space to create clusters of similar data points. Probabilistic models, on the other hand, use the idea of probability to classify new entities by treating features and target variables as random variables and estimating either conditional probability distributions (for predictive models) or joint distributions (for generative models).\n",
            "User: exit\n",
            "Bot: Thank you for chatting.If you have any queries, you can ask\n"
          ]
        }
      ]
    },
    {
      "cell_type": "code",
      "source": [],
      "metadata": {
        "id": "6yv2pb4NROCy"
      },
      "execution_count": null,
      "outputs": []
    }
  ]
}